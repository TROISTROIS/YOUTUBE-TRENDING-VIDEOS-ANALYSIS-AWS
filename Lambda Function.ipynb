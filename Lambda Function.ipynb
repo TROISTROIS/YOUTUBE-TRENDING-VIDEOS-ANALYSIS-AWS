{
 "cells": [
  {
   "cell_type": "code",
   "execution_count": null,
   "id": "35b707ae",
   "metadata": {},
   "outputs": [],
   "source": [
    "# lambda function to format json data to apache parquet data"
   ]
  },
  {
   "cell_type": "code",
   "execution_count": null,
   "id": "1153ec60",
   "metadata": {},
   "outputs": [],
   "source": [
    "import awswrangler as wr\n",
    "import pandas as pd\n",
    "import urllib.parse\n",
    "import os\n",
    "\n",
    "\n",
    "os_input_s3_cleansed_layer = os.environ['s3_cleansed_layer']\n",
    "os_input_glue_catalog_db_name = os.environ['glue_catalog_db_name']\n",
    "os_input_glue_catalog_table_name = os.environ['glue_catalog_table_name']\n",
    "os_input_write_data_operation = os.environ['write_data_operation']\n",
    "\n",
    "def lambda_handler(event, context):\n",
    "    # Get the object from the event and show its content type\n",
    "    bucket = event['Records'][0]['s3']['bucket']['name']\n",
    "    key = urllib.parse.unquote_plus(event['Records'][0]['s3']['object']['key'], encoding='utf-8')\n",
    "    try:\n",
    "\n",
    "        # Creating DF from content\n",
    "        df_raw = wr.s3.read_json('s3://{}/{}'.format(bucket, key))\n",
    "\n",
    "        # Extract required columns:\n",
    "        df_step_1 = pd.json_normalize(df_raw['items'])\n",
    "\n",
    "        # Write to S3\n",
    "        wr_response = wr.s3.to_parquet(\n",
    "            df=df_step_1,\n",
    "            path=os_input_s3_cleansed_layer,\n",
    "            dataset=True,\n",
    "            database=os_input_glue_catalog_db_name,\n",
    "            table=os_input_glue_catalog_table_name,\n",
    "            mode=os_input_write_data_operation\n",
    "        )\n",
    "\n",
    "        return wr_response\n",
    "    except Exception as e:\n",
    "        print(e)\n",
    "        print('Error getting object {} from bucket {}. Make sure they exist and your bucket is in the same region as this function.'.format(key, bucket))\n",
    "        raise e"
   ]
  }
 ],
 "metadata": {
  "kernelspec": {
   "display_name": "Python 3 (ipykernel)",
   "language": "python",
   "name": "python3"
  },
  "language_info": {
   "codemirror_mode": {
    "name": "ipython",
    "version": 3
   },
   "file_extension": ".py",
   "mimetype": "text/x-python",
   "name": "python",
   "nbconvert_exporter": "python",
   "pygments_lexer": "ipython3",
   "version": "3.9.12"
  }
 },
 "nbformat": 4,
 "nbformat_minor": 5
}
